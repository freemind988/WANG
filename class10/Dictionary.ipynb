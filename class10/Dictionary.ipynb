{
  "nbformat": 4,
  "nbformat_minor": 0,
  "metadata": {
    "colab": {
      "name": "Dictonary.ipynb",
      "provenance": [],
      "include_colab_link": true
    },
    "kernelspec": {
      "name": "python3",
      "display_name": "Python 3"
    },
    "language_info": {
      "name": "python"
    }
  },
  "cells": [
    {
      "cell_type": "markdown",
      "metadata": {
        "id": "view-in-github",
        "colab_type": "text"
      },
      "source": [
        "<a href=\"https://colab.research.google.com/github/freemind988/WANG/blob/master/class10/Dictionary.ipynb\" target=\"_parent\"><img src=\"https://colab.research.google.com/assets/colab-badge.svg\" alt=\"Open In Colab\"/></a>"
      ]
    },
    {
      "cell_type": "code",
      "execution_count": null,
      "metadata": {
        "id": "feg2ihYiAOQ_"
      },
      "outputs": [],
      "source": [
        "dic = {\"Harry\":32, \"Berry\": 31, \"Thousand\":21, \"Becky\": 50, \"Allie\":37}"
      ]
    },
    {
      "cell_type": "code",
      "source": [
        "for x in dic.items():\n",
        "  print(x)"
      ],
      "metadata": {
        "colab": {
          "base_uri": "https://localhost:8080/"
        },
        "id": "K3WumleEAbT0",
        "outputId": "f2658503-4b42-4465-e8a5-6dc4b4667b40"
      },
      "execution_count": null,
      "outputs": [
        {
          "output_type": "stream",
          "name": "stdout",
          "text": [
            "('Harry', 32)\n",
            "('Berry', 31)\n",
            "('Thousand', 21)\n",
            "('Becky', 50)\n",
            "('Allie', 37)\n"
          ]
        }
      ]
    },
    {
      "cell_type": "code",
      "source": [
        "sorted_tuple = sorted(dic.items(), key=lambda x: x[1])\n",
        "print(sorted_tuple)"
      ],
      "metadata": {
        "colab": {
          "base_uri": "https://localhost:8080/"
        },
        "id": "bfY9lducAYwR",
        "outputId": "6e61fe41-2cd2-4ca6-a1d2-dddb024c5a9d"
      },
      "execution_count": null,
      "outputs": [
        {
          "output_type": "stream",
          "name": "stdout",
          "text": [
            "[('Thousand', 21), ('Berry', 31), ('Harry', 32), ('Allie', 37), ('Becky', 50)]\n"
          ]
        }
      ]
    },
    {
      "cell_type": "code",
      "source": [
        "dic = {key:value for key, value in sorted_tuple}\n",
        "print(dic)"
      ],
      "metadata": {
        "colab": {
          "base_uri": "https://localhost:8080/"
        },
        "id": "LZC7H8cDArbt",
        "outputId": "48514ccb-3abe-4ce7-9afd-88c1f257e6a8"
      },
      "execution_count": null,
      "outputs": [
        {
          "output_type": "stream",
          "name": "stdout",
          "text": [
            "{'Thousand': 21, 'Berry': 31, 'Harry': 32, 'Allie': 37, 'Becky': 50}\n"
          ]
        }
      ]
    },
    {
      "cell_type": "code",
      "source": [
        "ans = {}\n",
        "for key, value in sorted_tuple:\n",
        "  ans[key] = value\n",
        "print(ans)"
      ],
      "metadata": {
        "colab": {
          "base_uri": "https://localhost:8080/"
        },
        "id": "Nk-IO33DBBSU",
        "outputId": "d9929934-1226-49ce-bcb9-f0026f58be68"
      },
      "execution_count": null,
      "outputs": [
        {
          "output_type": "stream",
          "name": "stdout",
          "text": [
            "{'Thousand': 21, 'Berry': 31, 'Harry': 32, 'Allie': 37, 'Becky': 50}\n"
          ]
        }
      ]
    }
  ]
}