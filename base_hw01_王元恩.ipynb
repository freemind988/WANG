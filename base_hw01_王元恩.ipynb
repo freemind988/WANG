{
  "nbformat": 4,
  "nbformat_minor": 0,
  "metadata": {
    "colab": {
      "name": "base/hw01_王元恩.ipynb",
      "provenance": [],
      "collapsed_sections": [],
      "authorship_tag": "ABX9TyPjNMYT7Z+zuyiQJFyU/JGT",
      "include_colab_link": true
    },
    "kernelspec": {
      "name": "python3",
      "display_name": "Python 3"
    },
    "language_info": {
      "name": "python"
    }
  },
  "cells": [
    {
      "cell_type": "markdown",
      "metadata": {
        "id": "view-in-github",
        "colab_type": "text"
      },
      "source": [
        "<a href=\"https://colab.research.google.com/github/freemind988/WANG/blob/master/base_hw01_%E7%8E%8B%E5%85%83%E6%81%A9.ipynb\" target=\"_parent\"><img src=\"https://colab.research.google.com/assets/colab-badge.svg\" alt=\"Open In Colab\"/></a>"
      ]
    },
    {
      "cell_type": "code",
      "execution_count": 6,
      "metadata": {
        "colab": {
          "base_uri": "https://localhost:8080/"
        },
        "id": "wEzzR7YCeUC5",
        "outputId": "ca4dd8fc-c4d9-41da-ffd0-c3a59a094ba1"
      },
      "outputs": [
        {
          "output_type": "stream",
          "name": "stdout",
          "text": [
            "-------歡迎來玩野球拳！-------\n",
            "請輸入您的名稱：DW\n",
            "請輸入==>: 剪刀（0）、石頭（1）、布（2）0\n",
            "您剛才出的拳為：剪刀\n",
            "AI出拳為 布\n",
            "你贏了AI\n"
          ]
        }
      ],
      "source": [
        "from random import randint\n",
        "\n",
        "print(\"-------歡迎來玩野球拳！-------\")\n",
        "\n",
        "name = input(f\"請輸入您的名稱：\")\n",
        "\n",
        "#獲取自己輸入的結果\n",
        "X = int( input(\"請輸入==>: 剪刀（0）、石頭（1）、布（2）\"))\n",
        "if X == 0:\n",
        "  print(\"您剛才出的拳為：剪刀\") \n",
        "elif X == 1:\n",
        "  print(\"您剛才出的拳為：石頭\")\n",
        "elif X == 2:\n",
        "  print(\"您剛才出的拳為：布\")\n",
        "    \n",
        "#系統隨機生成 \n",
        "import random       \n",
        "S = random.randint(0,2)    \n",
        "if S==0:\n",
        "    print(f\"AI出拳為 剪刀\")  \n",
        "elif S==1:\n",
        "    print(f\"AI出拳為 石頭\")\n",
        "elif S== 2:\n",
        "    print(f\"AI出拳為 布\")\n",
        "    \n",
        "#進行石頭剪刀布對決\n",
        "if X==S:\n",
        "    print(\"平手\")\n",
        "elif X+2==S or X>S:     \n",
        "    print(\"你贏了AI\")\n",
        "elif S+2==X or S>X:     \n",
        "    print(\"AI贏了\")\n",
        "\n"
      ]
    }
  ]
}