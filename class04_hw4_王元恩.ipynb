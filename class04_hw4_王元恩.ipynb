{
  "nbformat": 4,
  "nbformat_minor": 0,
  "metadata": {
    "colab": {
      "name": "class04/hw4_王元恩.ipynb",
      "provenance": [],
      "collapsed_sections": [],
      "authorship_tag": "ABX9TyNyPFMHe1m+Ms4bMFwmrTaQ",
      "include_colab_link": true
    },
    "kernelspec": {
      "name": "python3",
      "display_name": "Python 3"
    },
    "language_info": {
      "name": "python"
    }
  },
  "cells": [
    {
      "cell_type": "markdown",
      "metadata": {
        "id": "view-in-github",
        "colab_type": "text"
      },
      "source": [
        "<a href=\"https://colab.research.google.com/github/freemind988/WANG/blob/master/class04_hw4_%E7%8E%8B%E5%85%83%E6%81%A9.ipynb\" target=\"_parent\"><img src=\"https://colab.research.google.com/assets/colab-badge.svg\" alt=\"Open In Colab\"/></a>"
      ]
    },
    {
      "cell_type": "code",
      "execution_count": null,
      "metadata": {
        "id": "4iKHU_OS5zO7",
        "colab": {
          "base_uri": "https://localhost:8080/"
        },
        "outputId": "e7e720ee-f928-4a68-ab4c-982e929f1265"
      },
      "outputs": [
        {
          "output_type": "stream",
          "name": "stdout",
          "text": [
            "[[ 21  64]\n",
            " [ 42 128]]\n"
          ]
        }
      ],
      "source": [
        "# 使用 numpy package，使用者輸入 A 矩陣 (2,3) 以及 B 矩陣 (3,2)，使用矩陣乘法算出最後的結果\n",
        "import numpy as np\n",
        "\n",
        "a = np.array([[2,3,5],[5,7,8]])\n",
        "b = np.array([[1,2],[3,10],[2,6]])\n",
        "\n",
        "print(np.matmul(a,b))"
      ]
    },
    {
      "cell_type": "code",
      "source": [
        "# 學校有 3 個班級，每個班級分別 10 人，請協助 Thousand 使用 numpy package\n",
        "# 將 10 人的總和算出，以及找出每個班級最高分\n",
        "\n",
        "# import numpy as np\n",
        "class_a = np.array ([32,57,89,82,98,57,88,56,93,91])\n",
        "class_b = np.array ([88,93,20,70,56,83,92,100,80,97])\n",
        "class_c = np.array ([82,75,83,95,96,90,77,82,90,88])\n",
        "\n",
        "print(f\"A class 總和: {np.sum(class_a)}\", f\"& 最大值: {np.max(class_a)}\")\n",
        "print(f\"B class 總和: {np.sum(class_b)}\", f\"& 最大值: {np.max(class_b)}\")\n",
        "print(f\"C class 總和: {np.sum(class_c)}\", f\"& 最大值: {np.max(class_c)}\")"
      ],
      "metadata": {
        "colab": {
          "base_uri": "https://localhost:8080/"
        },
        "id": "0Bq7KOUrUyPS",
        "outputId": "2adef1f8-bda1-4db6-f6fb-65840eb73849"
      },
      "execution_count": null,
      "outputs": [
        {
          "output_type": "stream",
          "name": "stdout",
          "text": [
            "A class 總和: 743 & 最大值: 98\n",
            "B class 總和: 779 & 最大值: 100\n",
            "C class 總和: 858 & 最大值: 96\n"
          ]
        }
      ]
    },
    {
      "cell_type": "code",
      "source": [
        "# 前往 HackerRank 網站刷 Python 題目，請將以下題目刷完並且截圖如下\n"
      ],
      "metadata": {
        "id": "QO77XKRJZOkA"
      },
      "execution_count": null,
      "outputs": []
    }
  ]
}