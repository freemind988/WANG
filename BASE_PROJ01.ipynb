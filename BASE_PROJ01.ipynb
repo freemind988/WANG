{
  "nbformat": 4,
  "nbformat_minor": 0,
  "metadata": {
    "colab": {
      "name": "BASE_PROJ01.ipynb",
      "provenance": [],
      "collapsed_sections": [],
      "authorship_tag": "ABX9TyMGtFGr8FhGZQx/yQGCsVpK",
      "include_colab_link": true
    },
    "kernelspec": {
      "name": "python3",
      "display_name": "Python 3"
    },
    "language_info": {
      "name": "python"
    }
  },
  "cells": [
    {
      "cell_type": "markdown",
      "metadata": {
        "id": "view-in-github",
        "colab_type": "text"
      },
      "source": [
        "<a href=\"https://colab.research.google.com/github/freemind988/WANG/blob/master/BASE_PROJ01.ipynb\" target=\"_parent\"><img src=\"https://colab.research.google.com/assets/colab-badge.svg\" alt=\"Open In Colab\"/></a>"
      ]
    },
    {
      "cell_type": "markdown",
      "source": [
        "# **爬蟲好好玩**"
      ],
      "metadata": {
        "id": "EOY7f5dRWNHG"
      }
    },
    {
      "cell_type": "markdown",
      "source": [
        "### *有趣的統一發票兌獎遊戲*"
      ],
      "metadata": {
        "id": "i3W50ivQWa0D"
      }
    },
    {
      "cell_type": "code",
      "execution_count": 25,
      "metadata": {
        "colab": {
          "base_uri": "https://localhost:8080/"
        },
        "id": "2G3JyDLSWLt4",
        "outputId": "2bb33671-003b-4712-cc77-3303de9d998d"
      },
      "outputs": [
        {
          "output_type": "stream",
          "name": "stdout",
          "text": [
            "Looking in indexes: https://pypi.org/simple, https://us-python.pkg.dev/colab-wheels/public/simple/\n",
            "Requirement already satisfied: lxml in /usr/local/lib/python3.7/dist-packages (4.9.1)\n",
            "Looking in indexes: https://pypi.org/simple, https://us-python.pkg.dev/colab-wheels/public/simple/\n",
            "Requirement already satisfied: emoji in /usr/local/lib/python3.7/dist-packages (2.0.0)\n"
          ]
        }
      ],
      "source": [
        "!pip install lxml\n",
        "!pip install emoji"
      ]
    },
    {
      "cell_type": "code",
      "source": [
        "import requests\n",
        "from bs4 import BeautifulSoup\n",
        "import re\n",
        "from pickle import encode_long\n",
        "from requests.api import patch\n",
        "import emoji\n",
        "\n",
        "url1 = 'https://invoice.etax.nat.gov.tw/'\n",
        "rq = requests.get(url1)\n",
        "html1 = rq.content.decode(encoding=\"utf8\") # 檢查--> Elements--> meta charset的說明為\"utf-8\"\n",
        "sp = BeautifulSoup(html1, 'lxml')\n",
        "all1 = sp.find(\"table\", class_=\"etw-table-bgbox etw-tbig\")\n",
        "\n",
        "\n",
        "head = sp.findAll(\"a\", class_=\"etw-on\") # 捉出本次兌獎期別\n",
        "head[0]\n",
        "print(\"您目前所兌獎的期別:\", head[0].string)\n",
        "\n",
        "title = sp.find(\"table\", class_=\"etw-table-bgbox etw-tbig\") # 捉出本次特別獎號碼\n",
        "god_bless = sp.find('span', class_='font-weight-bold etw-color-red')\n",
        "print(\"特別獎:\", god_bless.text)\n",
        "\n",
        "big_prize = sp.findAll('span', class_='font-weight-bold etw-color-red')[1] # 捉出本次特獎號碼\n",
        "print(\"特獎:\", big_prize.text)\n",
        "\n",
        "prize1 = sp.find(\"p\", class_=\"etw-tbiggest mb-md-4\") # 頭獎以下的獎項\n",
        "prize2 = sp.findAll(\"p\", class_=\"etw-tbiggest mb-md-4\")[1]\n",
        "prize3 = sp.findAll(\"p\", class_=\"etw-tbiggest mb-md-4\")[2]\n",
        "print(\"頭獎:\", prize1.text, end=\"\")\n",
        "print(prize2.text, end=\"\")\n",
        "print(prize3.text)\n",
        "print(f\"================================================\")\n",
        "\n",
        "# 連續判讀\n",
        "a = str(input(\"請輸入你的發票號碼:\"))\n",
        "a_3 = a[-3] + a[-2] + a[-1]\n",
        "headlist = [prize1.text.replace(\"\\n\", \"\"), prize2.text.replace(\"\\n\", \"\"), prize3.text.replace(\"\\n\", \"\")]\n",
        "while a != \"\":\n",
        "    b = 0   #對發票末數\n",
        "    b_con = 0  #發票連續對中號碼\n",
        "    b_con1 = 0  #連續對中的最大數\n",
        "    a_3 = a[-3] + a[-2] + a[-1] #再次更新後三碼\n",
        "    for i in headlist:\n",
        "        #print(i)\n",
        "        b = 0\n",
        "        for j, k in zip(reversed(i), reversed(a)):\n",
        "            if j == k:\n",
        "              b = b + 1\n",
        "              #print(j, k, b)\n",
        "            else:\n",
        "              b_con = b\n",
        "              if b_con > b_con1:\n",
        "                b_con1 = b_con\n",
        "                break\n",
        "\n",
        "    #print(b_con1)\n",
        "    headlistF = False #判斷頭獎\n",
        "\n",
        "    if len(a) == 8:\n",
        "        for l in headlist:\n",
        "            if l == a:\n",
        "              print(emoji.emojize(\"恭喜中獎二十萬~ :red_heart::red_heart::red_heart:\"))\n",
        "              headlistF = True\n",
        "        if god_bless.text == a:\n",
        "          print(emoji.emojize(\"恭喜中獎一千萬~ :red_heart::thumbs_up::red_heart::thumbs_up::red_heart:\"))\n",
        "        elif big_prize.text == a:\n",
        "          print(emoji.emojize(\"恭喜中獎兩百萬~ :red_heart::thumbs_up::thumbs_up::red_heart:\"))\n",
        "        elif b_con1 == 7:\n",
        "          print(emoji.emojize(\"恭喜中獎四萬元~ :thumbs_up::thumbs_up::thumbs_up:\"))\n",
        "        elif b_con1 == 6:\n",
        "          print(emoji.emojize(\"恭喜中獎一萬元~ :red_heart::red_heart:\"))\n",
        "        elif b_con1 == 5:\n",
        "          print(emoji.emojize(\"恭喜中獎四千元~ :thumbs_up::thumbs_up:\"))\n",
        "        elif b_con1 == 4:\n",
        "          print(emoji.emojize(\"恭喜中獎一千元~ :red_heart:\"))\n",
        "        elif b_con1 == 3:\n",
        "          print(emoji.emojize(\"恭喜中獎兩百元~ :thumbs_up:\"))\n",
        "        elif headlistF == False:\n",
        "          print(\"殘念,沒中~\")\n",
        "    else:\n",
        "      print(\"請輸入八位數字的發票號碼!\")\n",
        "    a = str(input(\"再次輸入你的發票號碼(直接ENTER為結束):\"))\n"
      ],
      "metadata": {
        "colab": {
          "base_uri": "https://localhost:8080/"
        },
        "id": "lpif0SHvW4QK",
        "outputId": "4a5a6e0f-8140-4ea3-dc48-c7ad7c61925e"
      },
      "execution_count": 43,
      "outputs": [
        {
          "name": "stdout",
          "output_type": "stream",
          "text": [
            "您目前所兌獎的期別: 111年05-06月中獎號碼單\n",
            "特別獎: 46438476\n",
            "特獎: 54769852\n",
            "頭獎: \n",
            "17858097\n",
            "94045042\n",
            "05236836\n",
            "================================================\n",
            "請輸入你的發票號碼:00000000\n",
            "殘念,沒中~\n",
            "再次輸入你的發票號碼(直接ENTER為結束):\n"
          ]
        }
      ]
    },
    {
      "cell_type": "code",
      "source": [],
      "metadata": {
        "id": "GGPeuy04vBsB"
      },
      "execution_count": null,
      "outputs": []
    },
    {
      "cell_type": "code",
      "source": [],
      "metadata": {
        "id": "Nw7r9MeFvERZ"
      },
      "execution_count": null,
      "outputs": []
    },
    {
      "cell_type": "markdown",
      "source": [
        "### *有趣的台股個股走勢圖*"
      ],
      "metadata": {
        "id": "UluEkdzzu0pI"
      }
    },
    {
      "cell_type": "code",
      "source": [],
      "metadata": {
        "id": "MayzowPZvJKL"
      },
      "execution_count": null,
      "outputs": []
    }
  ]
}