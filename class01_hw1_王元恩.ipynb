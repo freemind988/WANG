{
  "nbformat": 4,
  "nbformat_minor": 0,
  "metadata": {
    "colab": {
      "name": "class01/hw1_王元恩.ipynb",
      "provenance": [],
      "collapsed_sections": [],
      "authorship_tag": "ABX9TyNwmmQBW0Tp1/M1wnXoIchi",
      "include_colab_link": true
    },
    "kernelspec": {
      "name": "python3",
      "display_name": "Python 3"
    },
    "language_info": {
      "name": "python"
    }
  },
  "cells": [
    {
      "cell_type": "markdown",
      "metadata": {
        "id": "view-in-github",
        "colab_type": "text"
      },
      "source": [
        "<a href=\"https://colab.research.google.com/github/freemind988/WANG/blob/master/class01_hw1_%E7%8E%8B%E5%85%83%E6%81%A9.ipynb\" target=\"_parent\"><img src=\"https://colab.research.google.com/assets/colab-badge.svg\" alt=\"Open In Colab\"/></a>"
      ]
    },
    {
      "cell_type": "code",
      "source": [
        "# 使用者輸入兩個數字，請將輸入的數字相除到小數點後兩位 (四捨五入)\n",
        "# 若使用者輸入的不是數字，則需要提醒他格式錯誤\n",
        "\n",
        "try:\n",
        "  num1 = float(input(\"Enter 1st number: \"))\n",
        "  num2 = float(input(\"Enter 2nd number: \"))\n",
        "  #print(f\"The 1st number is {num1}\")\n",
        "  #print(f\"The 2nd number is {num2}\")\n",
        "  #print(type(number1),type(number2))\n",
        "  num3 = num1/num2\n",
        "  print(f\"相除= {num3}\")\n",
        "  print(f\"取小數兩位: {num3:.2f}\")\n",
        "\n",
        "except ValueError:\n",
        "    print(\"輸入格式錯誤，請輸入數字\")"
      ],
      "metadata": {
        "id": "XT1DAQOjaQCq",
        "outputId": "aff7fc0f-f5c4-4e56-e7e2-bc8299564924",
        "colab": {
          "base_uri": "https://localhost:8080/"
        }
      },
      "execution_count": 1,
      "outputs": [
        {
          "output_type": "stream",
          "name": "stdout",
          "text": [
            "Enter 1st number: 43\n",
            "Enter 2nd number: 7\n",
            "相除= 6.142857142857143\n",
            "取小數兩位: 6.14\n"
          ]
        }
      ]
    },
    {
      "cell_type": "code",
      "source": [
        "# 若使用者輸入 2 的倍數，則印出此數為 2 的倍數，若 3 的倍數，則印出此數為 3 的倍數\n",
        "# 若是 2 也是 3 的倍數，則印出此數為 6 的倍數。\n",
        "\n",
        "try:\n",
        "    nums = int(input(\"Enter a number: \"))\n",
        "    print(f\"Your number is: {nums}\")\n",
        "    if nums % 6 == 0:\n",
        "      print(f\"此數為 6 的倍數\") \n",
        "    elif nums % 2 == 0:\n",
        "      print(f\"此數為 2 的倍數\") \n",
        "    elif nums % 3 == 0:\n",
        "      print(f\"此數為 3 的倍數\") \n",
        "    else:\n",
        "      print(f\"此數不是 2/ 3/ 6的倍數\") \n",
        "         \n",
        "except ValueError:\n",
        "    print(\"輸入格式錯誤，請輸入數字\")"
      ],
      "metadata": {
        "id": "mM6X2qy6aUAA",
        "colab": {
          "base_uri": "https://localhost:8080/"
        },
        "outputId": "fc76dc5e-3250-4735-c68e-21aeae77809d"
      },
      "execution_count": 2,
      "outputs": [
        {
          "output_type": "stream",
          "name": "stdout",
          "text": [
            "Enter a number: 10\n",
            "Your number is: 10\n",
            "此數為 2 的倍數\n"
          ]
        }
      ]
    },
    {
      "cell_type": "code",
      "source": [
        "# 使用者輸入 n 秒 (n<86400) 請將它轉換成 x 時 x 分 x 秒。(25 分)\n",
        "try:\n",
        "    seconds = int(input(\"輸入秒數: \"))\n",
        "\n",
        "    if seconds >0 and seconds <= 86400:\n",
        "       m, s = divmod(seconds, 60)\n",
        "       h, m = divmod(m, 60)\n",
        "       print(f\"%d:%02d:%02d\" % (h, m, s))\n",
        "\n",
        "    else:\n",
        "      print(f\"此數超過計算範圍\") \n",
        "  \n",
        "except ValueError:\n",
        "    print(\"輸入格式錯誤，請輸入數字\")"
      ],
      "metadata": {
        "id": "49HiaYgUabNZ",
        "colab": {
          "base_uri": "https://localhost:8080/"
        },
        "outputId": "29ffb9fa-c6ae-4844-b53a-78aa91fa0281"
      },
      "execution_count": 3,
      "outputs": [
        {
          "output_type": "stream",
          "name": "stdout",
          "text": [
            "輸入秒數: 777\n",
            "0:12:57\n"
          ]
        }
      ]
    },
    {
      "cell_type": "code",
      "source": [
        "# 使用者輸入 n (n 為偶數)，則印出 1 3 5 7 9 … n-1，使用 while 迴圈。\n",
        "n = int(input())\n",
        "i = 0\n",
        "\n",
        "while True:\n",
        "  if i == n:\n",
        "    break\n",
        "  i += 1\n",
        "  if i%2 != 0:\n",
        "    print(i) "
      ],
      "metadata": {
        "id": "1bGQHBqjagwc",
        "colab": {
          "base_uri": "https://localhost:8080/"
        },
        "outputId": "cff8e6e9-020f-470b-9f6e-9906db37eaf1"
      },
      "execution_count": 4,
      "outputs": [
        {
          "output_type": "stream",
          "name": "stdout",
          "text": [
            "10\n",
            "1\n",
            "3\n",
            "5\n",
            "7\n",
            "9\n"
          ]
        }
      ]
    }
  ]
}