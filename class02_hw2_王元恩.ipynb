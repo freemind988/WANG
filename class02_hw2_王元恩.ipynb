{
  "nbformat": 4,
  "nbformat_minor": 0,
  "metadata": {
    "colab": {
      "name": "class02/hw2_王元恩.ipynb",
      "provenance": [],
      "collapsed_sections": [],
      "authorship_tag": "ABX9TyMeJEhygrmJzy08kGIGzDU5",
      "include_colab_link": true
    },
    "kernelspec": {
      "name": "python3",
      "display_name": "Python 3"
    },
    "language_info": {
      "name": "python"
    }
  },
  "cells": [
    {
      "cell_type": "markdown",
      "metadata": {
        "id": "view-in-github",
        "colab_type": "text"
      },
      "source": [
        "<a href=\"https://colab.research.google.com/github/freemind988/WANG/blob/master/class02_hw2_%E7%8E%8B%E5%85%83%E6%81%A9.ipynb\" target=\"_parent\"><img src=\"https://colab.research.google.com/assets/colab-badge.svg\" alt=\"Open In Colab\"/></a>"
      ]
    },
    {
      "cell_type": "code",
      "execution_count": 1,
      "metadata": {
        "colab": {
          "base_uri": "https://localhost:8080/"
        },
        "id": "VtjmYHMddZ0z",
        "outputId": "55111daf-8269-4f65-9477-8c0d8d26081e"
      },
      "outputs": [
        {
          "output_type": "stream",
          "name": "stdout",
          "text": [
            "13\n",
            "1+2+3+4+5+6+7+8+9+10+11+12+13=91\n"
          ]
        }
      ],
      "source": [
        "# 使用者輸入數字n，則印出n個值的累加總和\n",
        "\n",
        "try:\n",
        "  n = int(input())\n",
        "  i = 1\n",
        "  total = 0\n",
        "  while i <= n:\n",
        "    if i == n:\n",
        "      print(i,end= \"=\")\n",
        "    else:\n",
        "      print(i,end= \"+\")\n",
        "    total = total + i\n",
        "    i += 1\n",
        "  print(total)\n",
        "\n",
        "except ValueError:\n",
        "  print(\"輸入格式錯誤，請輸入數字\")\n"
      ]
    },
    {
      "cell_type": "code",
      "source": [
        "# 使用者輸入一段串列，並且輸入一個定錨數字，將串列中大於定錨分數篩選出來\n",
        "# 並且另存成一個串列且印出此串列。\n",
        "\n",
        "s = input()\n",
        "s = s.split()\n",
        "int_s = []\n",
        "\n",
        "for v in s:\n",
        "    int_s.append(int(v))\n",
        "print(f\"您輸入的資料為: {int_s}\")\n",
        "\n",
        "anchor = int(input())\n",
        "ans = [i for i in int_s if i > anchor]\n",
        "print(f\"大於{anchor}的值為: {ans}\")\n",
        "\n"
      ],
      "metadata": {
        "colab": {
          "base_uri": "https://localhost:8080/"
        },
        "id": "zqEIH6iXgIjB",
        "outputId": "453015ce-b67a-4754-98a9-11b9e8676901"
      },
      "execution_count": 4,
      "outputs": [
        {
          "output_type": "stream",
          "name": "stdout",
          "text": [
            "44 55 66 77 88\n",
            "您輸入的資料為: [44, 55, 66, 77, 88]\n",
            "69\n",
            "大於69的值為: [77, 88]\n"
          ]
        }
      ]
    },
    {
      "cell_type": "code",
      "source": [
        "# 使用者輸入一段串列，並且將2的倍數之數值總加。\n",
        "try:\n",
        "  s = input()\n",
        "  s = s.split()\n",
        "  int_s = []\n",
        "\n",
        "  for v in s:\n",
        "      int_s.append(int(v))\n",
        "  print(f\"您輸入的資料為: {int_s}\")\n",
        "\n",
        "  #ans=[]\n",
        "  ans = [i for i in int_s if i % 2 == 0]\n",
        "  print(f\"2的倍數之數值總加: {sum(ans)}\")\n",
        "\n",
        "except ValueError:\n",
        "  print(\"輸入格式錯誤，請輸入數字\")"
      ],
      "metadata": {
        "colab": {
          "base_uri": "https://localhost:8080/"
        },
        "id": "Ch4c8-OVgYjA",
        "outputId": "fa6aaafd-502d-49d7-b9ad-189260360094"
      },
      "execution_count": null,
      "outputs": [
        {
          "output_type": "stream",
          "name": "stdout",
          "text": [
            "44 55 66 77 88\n",
            "您輸入的資料為: [44, 55, 66, 77, 88]\n",
            "2的倍數之數值總加: 198\n"
          ]
        }
      ]
    },
    {
      "cell_type": "code",
      "source": [
        "# 使用者輸入兩組字串，一組為子字串，查詢子字串在主字串中出現次數\n",
        "# 提示 : 用slice做\n",
        "\n",
        "s_main = input()\n",
        "s_subs = input()\n",
        "print(s_main.count(s_subs))\n"
      ],
      "metadata": {
        "colab": {
          "base_uri": "https://localhost:8080/"
        },
        "id": "CPyqB97QpXXM",
        "outputId": "55a00d7c-7f6a-4669-8878-d7f971d22930"
      },
      "execution_count": null,
      "outputs": [
        {
          "output_type": "stream",
          "name": "stdout",
          "text": [
            "ehseshsthesthshsthsrthsthsr\n",
            "srrt\n",
            "0\n"
          ]
        }
      ]
    }
  ]
}