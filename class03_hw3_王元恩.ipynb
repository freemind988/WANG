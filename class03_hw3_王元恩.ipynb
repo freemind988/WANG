{
  "nbformat": 4,
  "nbformat_minor": 0,
  "metadata": {
    "colab": {
      "name": "class03/hw3_王元恩.ipynb",
      "provenance": [],
      "collapsed_sections": [],
      "authorship_tag": "ABX9TyOwLL1Qcl+AWYzJIO3RNEBX",
      "include_colab_link": true
    },
    "kernelspec": {
      "name": "python3",
      "display_name": "Python 3"
    },
    "language_info": {
      "name": "python"
    }
  },
  "cells": [
    {
      "cell_type": "markdown",
      "metadata": {
        "id": "view-in-github",
        "colab_type": "text"
      },
      "source": [
        "<a href=\"https://colab.research.google.com/github/freemind988/WANG/blob/master/class03_hw3_%E7%8E%8B%E5%85%83%E6%81%A9.ipynb\" target=\"_parent\"><img src=\"https://colab.research.google.com/assets/colab-badge.svg\" alt=\"Open In Colab\"/></a>"
      ]
    },
    {
      "cell_type": "code",
      "execution_count": null,
      "metadata": {
        "colab": {
          "base_uri": "https://localhost:8080/"
        },
        "id": "jzMtqriGtyFX",
        "outputId": "9df9abd6-1fba-4742-9a15-50a447dfe97d"
      },
      "outputs": [
        {
          "output_type": "stream",
          "name": "stdout",
          "text": [
            "5\n",
            " *****\n",
            "  ****\n",
            "   ***\n",
            "    **\n",
            "     *\n"
          ]
        }
      ],
      "source": [
        "# 第一題 空格數遞增，*數遞減\n",
        "n = int(input())\n",
        "for i in range(n):\n",
        "    for j in range(i+1):   \n",
        "        print(\" \",end=\"\")\n",
        "    for k in range(n-i):    \n",
        "        print(\"*\",end=\"\")\n",
        "    print()"
      ]
    },
    {
      "cell_type": "code",
      "source": [
        "# 第二題 空格數遞減，*數遞增\n",
        "n = int(input())\n",
        "for i in range(n):\n",
        "    for j in range(n-i-1):  \n",
        "        print(\" \",end=\"\")\n",
        "    for k in range(i+1):   \n",
        "        print(\"*\",end=\"\")\n",
        "    print()"
      ],
      "metadata": {
        "colab": {
          "base_uri": "https://localhost:8080/"
        },
        "id": "lhu8EKC34lZd",
        "outputId": "eb21778c-a74e-415f-8509-c253920c0937"
      },
      "execution_count": null,
      "outputs": [
        {
          "output_type": "stream",
          "name": "stdout",
          "text": [
            "5\n",
            "    *\n",
            "   **\n",
            "  ***\n",
            " ****\n",
            "*****\n"
          ]
        }
      ]
    },
    {
      "cell_type": "code",
      "source": [
        "# 第三題 設計一個函式獲得兩點間的距離，請將程式碼完成 \n",
        "\n",
        "import math\n",
        "\n",
        "class Point:\n",
        "  def __init__(self,x=0,y=0):\n",
        "    self.x=x\n",
        "    self.y=y\n",
        "  def getx(self):\n",
        "    return self.x\n",
        "  def gety(self):\n",
        "    return self.y\n",
        "\n",
        "class Distance:\n",
        "  def __init__(get_distance,p1,p2):\n",
        "    get_distance.x=p1.getx()-p2.getx()\n",
        "    get_distance.y=p1.gety()-p2.gety()\n",
        "    # 用math.sqrt（）求平方根\n",
        "    get_distance.len= math.sqrt((get_distance.x**2)+(get_distance.y**2))\n",
        "\n",
        "  def get_len(self):\n",
        "    return self.len\n",
        "\n",
        "p1=Point(3,5)\n",
        "p2=Point(10,29)\n",
        "l=Distance(p1,p2)\n",
        "l.get_len()"
      ],
      "metadata": {
        "colab": {
          "base_uri": "https://localhost:8080/"
        },
        "id": "phMr-Be2LmWF",
        "outputId": "67948b47-2d06-4bc0-de2a-db3719598cb9"
      },
      "execution_count": null,
      "outputs": [
        {
          "output_type": "execute_result",
          "data": {
            "text/plain": [
              "25.0"
            ]
          },
          "metadata": {},
          "execution_count": 2
        }
      ]
    },
    {
      "cell_type": "code",
      "source": [
        "# 使用者輸入兩個數字，第一個是 row，第二個是 column，產生一個 matrix\n",
        "# 為 row x col，內部數值使用 random 函數，範圍定在 1 – 20 之間的整數。\n",
        "\n",
        "import numpy as np\n",
        "\n",
        "i = int(input(\"Row: \"))\n",
        "n = int(input(\"Col: \"))\n",
        "x = np.random.randint(low=1,high=20, size=(i,n))\n",
        "\n",
        "print(x)\n"
      ],
      "metadata": {
        "id": "6RRPWwGJYrRZ",
        "colab": {
          "base_uri": "https://localhost:8080/"
        },
        "outputId": "a1cf8b4f-1d5a-43c1-bbfe-a019f7f36107"
      },
      "execution_count": null,
      "outputs": [
        {
          "output_type": "stream",
          "name": "stdout",
          "text": [
            "Row: 5\n",
            "Col: 3\n",
            "[[ 6 12 12]\n",
            " [ 5  9 14]\n",
            " [16 16  5]\n",
            " [18  8 15]\n",
            " [11  1  8]]\n"
          ]
        }
      ]
    },
    {
      "cell_type": "code",
      "source": [
        "# 第五題 HackerRank (USER_ID : freemind988@gmail.com)\n",
        "# 截圖如附件所示"
      ],
      "metadata": {
        "id": "3m40zcW7gmZ5"
      },
      "execution_count": null,
      "outputs": []
    },
    {
      "cell_type": "code",
      "source": [
        ""
      ],
      "metadata": {
        "id": "w3D7jEyg5Dg7"
      },
      "execution_count": null,
      "outputs": []
    }
  ]
}